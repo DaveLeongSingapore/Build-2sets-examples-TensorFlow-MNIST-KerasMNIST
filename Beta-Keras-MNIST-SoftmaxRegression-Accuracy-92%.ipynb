{
 "cells": [
  {
   "cell_type": "markdown",
   "metadata": {},
   "source": [
    "## Specifying the target input"
   ]
  },
  {
   "cell_type": "code",
   "execution_count": 4,
   "metadata": {},
   "outputs": [
    {
     "name": "stdout",
     "output_type": "stream",
     "text": [
      "60000 train samples\n",
      "10000 test samples\n"
     ]
    }
   ],
   "source": [
    "'''Trains a 1 layer linear regression network on the MNIST dataset.\n",
    "'''\n",
    "\n",
    "from __future__ import print_function\n",
    "\n",
    "import keras\n",
    "from keras.datasets import mnist\n",
    "from keras.models import Sequential\n",
    "from keras.layers import Dense, Dropout\n",
    "from keras.optimizers import RMSprop\n",
    "\n",
    "\n",
    "batch_size = 128\n",
    "num_classes = 10\n",
    "epochs = 20\n",
    "\n",
    "# the data, shuffled and split between train and test sets\n",
    "(x_train, y_train), (x_test, y_test) = mnist.load_data()\n",
    "\n",
    "x_train = x_train.reshape(60000, 784)\n",
    "x_test = x_test.reshape(10000, 784)\n",
    "x_train = x_train.astype('float32')\n",
    "x_test = x_test.astype('float32')\n",
    "x_train /= 255\n",
    "x_test /= 255\n",
    "print(x_train.shape[0], 'train samples')\n",
    "print(x_test.shape[0], 'test samples')\n",
    "\n",
    "# convert class vectors to binary class matrices\n",
    "y_train = keras.utils.to_categorical(y_train, num_classes)\n",
    "y_test = keras.utils.to_categorical(y_test, num_classes)\n",
    "\n"
   ]
  },
  {
   "cell_type": "markdown",
   "metadata": {},
   "source": [
    "## Compiling regression model"
   ]
  },
  {
   "cell_type": "code",
   "execution_count": 5,
   "metadata": {},
   "outputs": [
    {
     "name": "stdout",
     "output_type": "stream",
     "text": [
      "_________________________________________________________________\n",
      "Layer (type)                 Output Shape              Param #   \n",
      "=================================================================\n",
      "dense_5 (Dense)              (None, 10)                7850      \n",
      "=================================================================\n",
      "Total params: 7,850.0\n",
      "Trainable params: 7,850\n",
      "Non-trainable params: 0.0\n",
      "_________________________________________________________________\n"
     ]
    }
   ],
   "source": [
    "model = Sequential() \n",
    "model.add(Dense(10, input_shape=(784,), activation='softmax')) \n",
    "model.summary()\n",
    "\n",
    "model.compile(loss='categorical_crossentropy',\n",
    "              optimizer=RMSprop(),\n",
    "              metrics=['accuracy'])"
   ]
  },
  {
   "cell_type": "markdown",
   "metadata": {},
   "source": [
    "## Training and evaluate result"
   ]
  },
  {
   "cell_type": "code",
   "execution_count": 6,
   "metadata": {},
   "outputs": [
    {
     "name": "stdout",
     "output_type": "stream",
     "text": [
      "Train on 60000 samples, validate on 10000 samples\n",
      "Epoch 1/20\n",
      "60000/60000 [==============================] - 1s - loss: 0.5970 - acc: 0.8526 - val_loss: 0.3397 - val_acc: 0.9084\n",
      "Epoch 2/20\n",
      "60000/60000 [==============================] - 1s - loss: 0.3300 - acc: 0.9084 - val_loss: 0.3014 - val_acc: 0.9153\n",
      "Epoch 3/20\n",
      "60000/60000 [==============================] - 1s - loss: 0.3016 - acc: 0.9155 - val_loss: 0.2844 - val_acc: 0.9188\n",
      "Epoch 4/20\n",
      "60000/60000 [==============================] - 1s - loss: 0.2881 - acc: 0.9192 - val_loss: 0.2777 - val_acc: 0.9229\n",
      "Epoch 5/20\n",
      "60000/60000 [==============================] - 1s - loss: 0.2800 - acc: 0.9216 - val_loss: 0.2742 - val_acc: 0.9234\n",
      "Epoch 6/20\n",
      "60000/60000 [==============================] - 1s - loss: 0.2747 - acc: 0.9234 - val_loss: 0.2706 - val_acc: 0.9246\n",
      "Epoch 7/20\n",
      "60000/60000 [==============================] - 1s - loss: 0.2704 - acc: 0.9246 - val_loss: 0.2694 - val_acc: 0.9250\n",
      "Epoch 8/20\n",
      "60000/60000 [==============================] - 1s - loss: 0.2673 - acc: 0.9263 - val_loss: 0.2745 - val_acc: 0.9238\n",
      "Epoch 9/20\n",
      "60000/60000 [==============================] - 1s - loss: 0.2647 - acc: 0.9272 - val_loss: 0.2686 - val_acc: 0.9266\n",
      "Epoch 10/20\n",
      "60000/60000 [==============================] - 1s - loss: 0.2628 - acc: 0.9275 - val_loss: 0.2689 - val_acc: 0.9264\n",
      "Epoch 11/20\n",
      "60000/60000 [==============================] - 1s - loss: 0.2608 - acc: 0.9279 - val_loss: 0.2699 - val_acc: 0.9261\n",
      "Epoch 12/20\n",
      "60000/60000 [==============================] - 1s - loss: 0.2595 - acc: 0.9288 - val_loss: 0.2683 - val_acc: 0.9267\n",
      "Epoch 13/20\n",
      "60000/60000 [==============================] - 1s - loss: 0.2580 - acc: 0.9293 - val_loss: 0.2691 - val_acc: 0.9274\n",
      "Epoch 14/20\n",
      "60000/60000 [==============================] - 1s - loss: 0.2568 - acc: 0.9301 - val_loss: 0.2689 - val_acc: 0.9277\n",
      "Epoch 15/20\n",
      "60000/60000 [==============================] - 1s - loss: 0.2560 - acc: 0.9304 - val_loss: 0.2691 - val_acc: 0.9276\n",
      "Epoch 16/20\n",
      "60000/60000 [==============================] - 1s - loss: 0.2548 - acc: 0.9310 - val_loss: 0.2697 - val_acc: 0.9265\n",
      "Epoch 17/20\n",
      "60000/60000 [==============================] - 1s - loss: 0.2542 - acc: 0.9311 - val_loss: 0.2699 - val_acc: 0.9264\n",
      "Epoch 18/20\n",
      "60000/60000 [==============================] - 1s - loss: 0.2532 - acc: 0.9317 - val_loss: 0.2687 - val_acc: 0.9279\n",
      "Epoch 19/20\n",
      "60000/60000 [==============================] - 1s - loss: 0.2526 - acc: 0.9318 - val_loss: 0.2693 - val_acc: 0.9269\n",
      "Epoch 20/20\n",
      "60000/60000 [==============================] - 1s - loss: 0.2519 - acc: 0.9326 - val_loss: 0.2716 - val_acc: 0.9269\n",
      "Test loss: 0.271564659894\n",
      "Test accuracy: 0.9269\n"
     ]
    }
   ],
   "source": [
    "history = model.fit(x_train, y_train,\n",
    "                    batch_size=batch_size,\n",
    "                    epochs=epochs,\n",
    "                    verbose=1,\n",
    "                    validation_data=(x_test, y_test))\n",
    "score = model.evaluate(x_test, y_test, verbose=0)\n",
    "print('Test loss:', score[0])\n",
    "print('Test accuracy:', score[1])"
   ]
  }
 ],
 "metadata": {
  "kernelspec": {
   "display_name": "Python 3",
   "language": "python",
   "name": "python3"
  },
  "language_info": {
   "codemirror_mode": {
    "name": "ipython",
    "version": 3
   },
   "file_extension": ".py",
   "mimetype": "text/x-python",
   "name": "python",
   "nbconvert_exporter": "python",
   "pygments_lexer": "ipython3",
   "version": "3.5.3"
  }
 },
 "nbformat": 4,
 "nbformat_minor": 2
}
